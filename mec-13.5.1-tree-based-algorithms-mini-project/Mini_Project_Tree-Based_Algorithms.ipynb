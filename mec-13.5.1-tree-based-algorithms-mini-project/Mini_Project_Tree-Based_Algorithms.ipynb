{
 "cells": [
  {
   "cell_type": "markdown",
   "metadata": {},
   "source": [
    "# Mini Project: Tree-Based Algorithms"
   ]
  },
  {
   "cell_type": "markdown",
   "metadata": {},
   "source": [
    "## The \"German Credit\" Dataset"
   ]
  },
  {
   "cell_type": "markdown",
   "metadata": {},
   "source": [
    "### Dataset Details"
   ]
  },
  {
   "cell_type": "markdown",
   "metadata": {},
   "source": [
    "This dataset has two classes (these would be considered labels in Machine Learning terms) to describe the worthiness of a personal loan: \"Good\" or \"Bad\". There are predictors related to attributes, such as: checking account status, duration, credit history, purpose of the loan, amount of the loan, savings accounts or bonds, employment duration, installment rate in percentage of disposable income, personal information, other debtors/guarantors, residence duration, property, age, other installment plans, housing, number of existing credits, job information, number of people being liable to provide maintenance for, telephone, and foreign worker status.\n",
    "\n",
    "Many of these predictors are discrete and have been expanded into several 0/1 indicator variables (a.k.a. they have been one-hot-encoded).\n",
    "\n",
    "This dataset has been kindly provided by Professor Dr. Hans Hofmann of the University of Hamburg, and can also be found on the UCI Machine Learning Repository."
   ]
  },
  {
   "cell_type": "markdown",
   "metadata": {},
   "source": [
    "\n",
    "\n",
    "\n"
   ]
  },
  {
   "cell_type": "markdown",
   "metadata": {},
   "source": [
    "## Decision Trees"
   ]
  },
  {
   "cell_type": "markdown",
   "metadata": {},
   "source": [
    " As we have learned in the previous lectures, Decision Trees as a family of algorithms (irrespective to the particular implementation) are powerful algorithms that can produce models with a predictive accuracy higher than that produced by linear models, such as Linear or Logistic Regression. Primarily, this is due to the fact the DT's can model nonlinear relationships, and also have a number of tuning paramters, that allow for the practicioner to achieve the best possible model. An added bonus is the ability to visualize the trained Decision Tree model, which allows for some insight into how the model has produced the predictions that it has. One caveat here, to keep in mind, is that sometimes, due to the size of the dataset (both in the sense of the number of records, as well as the number of features), the visualization might prove to be very large and complex, increasing the difficulty of interpretation."
   ]
  },
  {
   "cell_type": "markdown",
   "metadata": {},
   "source": [
    "To give you a very good example of how Decision Trees can be visualized and interpreted, we would strongly recommend that, before continuing on with solving the problems in this Mini Project, you take the time to read this fanstastic, detailed and informative blog post: http://explained.ai/decision-tree-viz/index.html"
   ]
  },
  {
   "cell_type": "markdown",
   "metadata": {},
   "source": [
    "## Building Your First Decision Tree Model"
   ]
  },
  {
   "cell_type": "markdown",
   "metadata": {},
   "source": [
    "So, now it's time to jump straight into the heart of the matter. Your first task, is to build a Decision Tree model, using the aforementioned \"German Credit\" dataset, which contains 1,000 records, and 62 columns (one of them presents the labels, and the other 61 present the potential features for the model.)"
   ]
  },
  {
   "cell_type": "markdown",
   "metadata": {},
   "source": [
    "For this task, you will be using the scikit-learn library, which comes already pre-installed with the Anaconda Python distribution. In case you're not using that, you can easily install it using pip."
   ]
  },
  {
   "cell_type": "markdown",
   "metadata": {},
   "source": [
    "Before embarking on creating your first model, we would strongly encourage you to read the short tutorial for Decision Trees in scikit-learn (http://scikit-learn.org/stable/modules/tree.html), and then dive a bit deeper into the documentation of the algorithm itself (http://scikit-learn.org/stable/modules/generated/sklearn.tree.DecisionTreeClassifier.html). "
   ]
  },
  {
   "cell_type": "markdown",
   "metadata": {},
   "source": [
    "Also, since you want to be able to present the results of your model, we suggest you take a look at the tutorial for accuracy metrics for classification models (http://scikit-learn.org/stable/modules/model_evaluation.html#classification-report) as well as the more detailed documentation (http://scikit-learn.org/stable/modules/generated/sklearn.metrics.classification_report.html).\n",
    "\n",
    "Finally, an *amazing* resource that explains the various classification model accuracy metrics, as well as the relationships between them, can be found on Wikipedia: https://en.wikipedia.org/wiki/Confusion_matrix"
   ]
  },
  {
   "cell_type": "markdown",
   "metadata": {},
   "source": [
    "(Note: as you've already learned in the Logistic Regression mini project, a standard practice in Machine Learning for achieving the best possible result when training a model is to use hyperparameter tuning, through Grid Search and k-fold Cross Validation. We strongly encourage you to use it here as well, not just because it's standard practice, but also becuase it's not going to be computationally to intensive, due to the size of the dataset that you're working with. Our suggestion here is that you split the data into 70% training, and 30% testing. Then, do the hyperparameter tuning and Cross Validation on the training set, and afterwards to a final test on the testing set.)"
   ]
  },
  {
   "cell_type": "markdown",
   "metadata": {},
   "source": [
    "### Now we pass the torch onto you! You can start building your first Decision Tree model! :)"
   ]
  },
  {
   "cell_type": "code",
   "execution_count": 10,
   "metadata": {},
   "outputs": [],
   "source": [
    "import pandas as pd\n",
    "from sklearn.tree import DecisionTreeClassifier\n",
    "from sklearn.metrics import classification_report\n",
    "from sklearn.model_selection import train_test_split\n",
    "from sklearn.model_selection import GridSearchCV\n",
    "from sklearn.metrics import accuracy_score"
   ]
  },
  {
   "cell_type": "code",
   "execution_count": 11,
   "metadata": {
    "scrolled": false
   },
   "outputs": [],
   "source": [
    "# Your code here!\n",
    "\n",
    "df = pd.read_csv('GermanCredit.csv.zip')\n",
    "#print(df.describe())\n",
    "#print(df.columns)\n",
    "#df.head()"
   ]
  },
  {
   "cell_type": "code",
   "execution_count": 12,
   "metadata": {},
   "outputs": [],
   "source": [
    "# Split the data into a training and test set.\n",
    "Xtrain, Xtest, ytrain, ytest = train_test_split(df.drop('Class',axis=1).values, df.Class.values, test_size=0.3, \n",
    "                                                random_state=5)"
   ]
  },
  {
   "cell_type": "code",
   "execution_count": 13,
   "metadata": {},
   "outputs": [
    {
     "name": "stdout",
     "output_type": "stream",
     "text": [
      "              precision    recall  f1-score   support\n",
      "\n",
      "         Bad       0.43      0.42      0.42        83\n",
      "        Good       0.78      0.78      0.78       217\n",
      "\n",
      "    accuracy                           0.68       300\n",
      "   macro avg       0.60      0.60      0.60       300\n",
      "weighted avg       0.68      0.68      0.68       300\n",
      "\n"
     ]
    }
   ],
   "source": [
    "#quick benchmark model\n",
    "clf = DecisionTreeClassifier().fit(Xtrain,ytrain)\n",
    "ytest_pred = clf.predict(Xtest)\n",
    "\n",
    "print(classification_report(ytest_pred,ytest))\n",
    "\n",
    "#That's pretty bad. Let's see whether we can better that score"
   ]
  },
  {
   "cell_type": "code",
   "execution_count": 14,
   "metadata": {
    "scrolled": true
   },
   "outputs": [
    {
     "name": "stdout",
     "output_type": "stream",
     "text": [
      "{'criterion': 'log_loss', 'max_depth': 6, 'splitter': 'best'}\n",
      "\n",
      "              precision    recall  f1-score   support\n",
      "\n",
      "         Bad       0.39      0.40      0.39        81\n",
      "        Good       0.78      0.77      0.77       219\n",
      "\n",
      "    accuracy                           0.67       300\n",
      "   macro avg       0.58      0.58      0.58       300\n",
      "weighted avg       0.67      0.67      0.67       300\n",
      "\n"
     ]
    },
    {
     "data": {
      "text/html": [
       "<div>\n",
       "<style scoped>\n",
       "    .dataframe tbody tr th:only-of-type {\n",
       "        vertical-align: middle;\n",
       "    }\n",
       "\n",
       "    .dataframe tbody tr th {\n",
       "        vertical-align: top;\n",
       "    }\n",
       "\n",
       "    .dataframe thead th {\n",
       "        text-align: right;\n",
       "    }\n",
       "</style>\n",
       "<table border=\"1\" class=\"dataframe\">\n",
       "  <thead>\n",
       "    <tr style=\"text-align: right;\">\n",
       "      <th></th>\n",
       "      <th>params</th>\n",
       "      <th>mean_test_score</th>\n",
       "    </tr>\n",
       "  </thead>\n",
       "  <tbody>\n",
       "    <tr>\n",
       "      <th>42</th>\n",
       "      <td>{'criterion': 'log_loss', 'max_depth': 6, 'spl...</td>\n",
       "      <td>0.737143</td>\n",
       "    </tr>\n",
       "    <tr>\n",
       "      <th>24</th>\n",
       "      <td>{'criterion': 'entropy', 'max_depth': 6, 'spli...</td>\n",
       "      <td>0.725714</td>\n",
       "    </tr>\n",
       "    <tr>\n",
       "      <th>44</th>\n",
       "      <td>{'criterion': 'log_loss', 'max_depth': 7, 'spl...</td>\n",
       "      <td>0.724286</td>\n",
       "    </tr>\n",
       "    <tr>\n",
       "      <th>22</th>\n",
       "      <td>{'criterion': 'entropy', 'max_depth': 5, 'spli...</td>\n",
       "      <td>0.724286</td>\n",
       "    </tr>\n",
       "    <tr>\n",
       "      <th>40</th>\n",
       "      <td>{'criterion': 'log_loss', 'max_depth': 5, 'spl...</td>\n",
       "      <td>0.724286</td>\n",
       "    </tr>\n",
       "  </tbody>\n",
       "</table>\n",
       "</div>"
      ],
      "text/plain": [
       "                                               params  mean_test_score\n",
       "42  {'criterion': 'log_loss', 'max_depth': 6, 'spl...         0.737143\n",
       "24  {'criterion': 'entropy', 'max_depth': 6, 'spli...         0.725714\n",
       "44  {'criterion': 'log_loss', 'max_depth': 7, 'spl...         0.724286\n",
       "22  {'criterion': 'entropy', 'max_depth': 5, 'spli...         0.724286\n",
       "40  {'criterion': 'log_loss', 'max_depth': 5, 'spl...         0.724286"
      ]
     },
     "execution_count": 14,
     "metadata": {},
     "output_type": "execute_result"
    }
   ],
   "source": [
    "dtc = DecisionTreeClassifier()\n",
    "params = {'criterion':  ['gini','entropy','log_loss'],'splitter': ['best','random'], 'max_depth':[3,4,5,6,7,8,10,20,30]}\n",
    "model = GridSearchCV(dtc, param_grid=params, cv=5, scoring=\"accuracy\")\n",
    "\n",
    "model.fit(Xtrain,ytrain)\n",
    "print(model.best_params_)\n",
    "print()\n",
    "#print(model.best_score_)\n",
    "ytest_pred = model.predict(Xtest)\n",
    "\n",
    "print(classification_report(ytest_pred,ytest))\n",
    "\n",
    "pd.DataFrame.from_dict(model.cv_results_)[['params','mean_test_score']].sort_values('mean_test_score', ascending=False)[0:5]\n",
    "\n",
    "#This hasn't actually helped with performance"
   ]
  },
  {
   "cell_type": "code",
   "execution_count": 15,
   "metadata": {},
   "outputs": [],
   "source": [
    "best_tree = DecisionTreeClassifier(criterion='entropy', max_depth= 6, splitter='best').fit(Xtrain,ytrain)"
   ]
  },
  {
   "cell_type": "markdown",
   "metadata": {},
   "source": [
    "### After you've built the best model you can, now it's time to visualize it!"
   ]
  },
  {
   "cell_type": "markdown",
   "metadata": {},
   "source": [
    "Rememeber that amazing blog post from a few paragraphs ago, that demonstrated how to visualize and interpret the results of your Decision Tree model. We've seen that this can perform very well, but let's see how it does on the \"German Credit\" dataset that we're working on, due to it being a bit larger than the one used by the blog authors."
   ]
  },
  {
   "cell_type": "markdown",
   "metadata": {},
   "source": [
    "First, we're going to need to install their package. If you're using Anaconda, this can be done easily by running:"
   ]
  },
  {
   "cell_type": "code",
   "execution_count": 16,
   "metadata": {},
   "outputs": [
    {
     "name": "stdout",
     "output_type": "stream",
     "text": [
      "Requirement already satisfied: dtreeviz in c:\\users\\richt\\anaconda3\\envs\\ucsd\\lib\\site-packages (2.0.0)\n",
      "Requirement already satisfied: matplotlib in c:\\users\\richt\\anaconda3\\envs\\ucsd\\lib\\site-packages (from dtreeviz) (3.6.3)\n",
      "Requirement already satisfied: numpy in c:\\users\\richt\\anaconda3\\envs\\ucsd\\lib\\site-packages (from dtreeviz) (1.21.5)\n",
      "Requirement already satisfied: graphviz>=0.9 in c:\\users\\richt\\anaconda3\\envs\\ucsd\\lib\\site-packages (from dtreeviz) (0.20.1)\n",
      "Requirement already satisfied: pytest in c:\\users\\richt\\anaconda3\\envs\\ucsd\\lib\\site-packages (from dtreeviz) (7.1.2)\n",
      "Requirement already satisfied: colour in c:\\users\\richt\\anaconda3\\envs\\ucsd\\lib\\site-packages (from dtreeviz) (0.1.5)\n",
      "Requirement already satisfied: pandas in c:\\users\\richt\\anaconda3\\envs\\ucsd\\lib\\site-packages (from dtreeviz) (1.5.1)\n",
      "Requirement already satisfied: scikit-learn in c:\\users\\richt\\anaconda3\\envs\\ucsd\\lib\\site-packages (from dtreeviz) (1.1.3)\n",
      "Requirement already satisfied: pillow>=6.2.0 in c:\\users\\richt\\anaconda3\\envs\\ucsd\\lib\\site-packages (from matplotlib->dtreeviz) (9.2.0)\n",
      "Requirement already satisfied: contourpy>=1.0.1 in c:\\users\\richt\\anaconda3\\envs\\ucsd\\lib\\site-packages (from matplotlib->dtreeviz) (1.0.7)\n",
      "Requirement already satisfied: kiwisolver>=1.0.1 in c:\\users\\richt\\anaconda3\\envs\\ucsd\\lib\\site-packages (from matplotlib->dtreeviz) (1.4.2)\n",
      "Requirement already satisfied: fonttools>=4.22.0 in c:\\users\\richt\\anaconda3\\envs\\ucsd\\lib\\site-packages (from matplotlib->dtreeviz) (4.25.0)\n",
      "Requirement already satisfied: python-dateutil>=2.7 in c:\\users\\richt\\anaconda3\\envs\\ucsd\\lib\\site-packages (from matplotlib->dtreeviz) (2.8.2)\n",
      "Requirement already satisfied: cycler>=0.10 in c:\\users\\richt\\anaconda3\\envs\\ucsd\\lib\\site-packages (from matplotlib->dtreeviz) (0.11.0)\n",
      "Requirement already satisfied: pyparsing>=2.2.1 in c:\\users\\richt\\anaconda3\\envs\\ucsd\\lib\\site-packages (from matplotlib->dtreeviz) (3.0.9)\n",
      "Requirement already satisfied: packaging>=20.0 in c:\\users\\richt\\anaconda3\\envs\\ucsd\\lib\\site-packages (from matplotlib->dtreeviz) (21.3)\n",
      "Requirement already satisfied: pytz>=2020.1 in c:\\users\\richt\\anaconda3\\envs\\ucsd\\lib\\site-packages (from pandas->dtreeviz) (2022.1)\n",
      "Requirement already satisfied: attrs>=19.2.0 in c:\\users\\richt\\anaconda3\\envs\\ucsd\\lib\\site-packages (from pytest->dtreeviz) (22.1.0)\n",
      "Requirement already satisfied: iniconfig in c:\\users\\richt\\anaconda3\\envs\\ucsd\\lib\\site-packages (from pytest->dtreeviz) (1.1.1)\n",
      "Requirement already satisfied: pluggy<2.0,>=0.12 in c:\\users\\richt\\anaconda3\\envs\\ucsd\\lib\\site-packages (from pytest->dtreeviz) (1.0.0)\n",
      "Requirement already satisfied: py>=1.8.2 in c:\\users\\richt\\anaconda3\\envs\\ucsd\\lib\\site-packages (from pytest->dtreeviz) (1.11.0)\n",
      "Requirement already satisfied: tomli>=1.0.0 in c:\\users\\richt\\anaconda3\\envs\\ucsd\\lib\\site-packages (from pytest->dtreeviz) (2.0.1)\n",
      "Requirement already satisfied: atomicwrites>=1.0 in c:\\users\\richt\\anaconda3\\envs\\ucsd\\lib\\site-packages (from pytest->dtreeviz) (1.4.0)\n",
      "Requirement already satisfied: colorama in c:\\users\\richt\\anaconda3\\envs\\ucsd\\lib\\site-packages (from pytest->dtreeviz) (0.4.5)\n",
      "Requirement already satisfied: scipy>=1.3.2 in c:\\users\\richt\\anaconda3\\envs\\ucsd\\lib\\site-packages (from scikit-learn->dtreeviz) (1.9.3)\n",
      "Requirement already satisfied: threadpoolctl>=2.0.0 in c:\\users\\richt\\anaconda3\\envs\\ucsd\\lib\\site-packages (from scikit-learn->dtreeviz) (2.2.0)\n",
      "Requirement already satisfied: joblib>=1.0.0 in c:\\users\\richt\\anaconda3\\envs\\ucsd\\lib\\site-packages (from scikit-learn->dtreeviz) (1.1.1)\n",
      "Requirement already satisfied: six>=1.5 in c:\\users\\richt\\anaconda3\\envs\\ucsd\\lib\\site-packages (from python-dateutil>=2.7->matplotlib->dtreeviz) (1.16.0)\n"
     ]
    },
    {
     "name": "stderr",
     "output_type": "stream",
     "text": [
      "WARNING: Ignoring invalid distribution -atplotlib (c:\\users\\richt\\anaconda3\\envs\\ucsd\\lib\\site-packages)\n",
      "WARNING: Ignoring invalid distribution -atplotlib (c:\\users\\richt\\anaconda3\\envs\\ucsd\\lib\\site-packages)\n",
      "WARNING: Ignoring invalid distribution -atplotlib (c:\\users\\richt\\anaconda3\\envs\\ucsd\\lib\\site-packages)\n",
      "WARNING: Ignoring invalid distribution -atplotlib (c:\\users\\richt\\anaconda3\\envs\\ucsd\\lib\\site-packages)\n",
      "WARNING: Ignoring invalid distribution -atplotlib (c:\\users\\richt\\anaconda3\\envs\\ucsd\\lib\\site-packages)\n",
      "WARNING: Ignoring invalid distribution -atplotlib (c:\\users\\richt\\anaconda3\\envs\\ucsd\\lib\\site-packages)\n"
     ]
    }
   ],
   "source": [
    "! pip install dtreeviz"
   ]
  },
  {
   "cell_type": "markdown",
   "metadata": {},
   "source": [
    "If for any reason this way of installing doesn't work for you straight out of the box, please refer to the more detailed documentation here: https://github.com/parrt/dtreeviz"
   ]
  },
  {
   "cell_type": "markdown",
   "metadata": {},
   "source": [
    "Now you're ready to visualize your Decision Tree model! Please feel free to use the blog post for guidance and inspiration!"
   ]
  },
  {
   "cell_type": "code",
   "execution_count": 18,
   "metadata": {},
   "outputs": [],
   "source": [
    "# First let's visualize using sklearn\n",
    "from sklearn.tree import plot_tree\n",
    "#plot_tree(best_tree)"
   ]
  },
  {
   "cell_type": "code",
   "execution_count": 21,
   "metadata": {},
   "outputs": [
    {
     "ename": "NameError",
     "evalue": "name 'dtreeviz' is not defined",
     "output_type": "error",
     "traceback": [
      "\u001b[1;31m---------------------------------------------------------------------------\u001b[0m",
      "\u001b[1;31mNameError\u001b[0m                                 Traceback (most recent call last)",
      "\u001b[1;32m~\\AppData\\Local\\Temp\\ipykernel_7556\\481034822.py\u001b[0m in \u001b[0;36m<module>\u001b[1;34m\u001b[0m\n\u001b[1;32m----> 1\u001b[1;33m viz = dtreeviz(DecisionTreeClassifier(criterion='entropy', max_depth= 6, splitter='best'), Xtrain, ytrain, \n\u001b[0m\u001b[0;32m      2\u001b[0m                target_name='Class', feature_names=df.drop('Class',axis=1).feature_names)\n",
      "\u001b[1;31mNameError\u001b[0m: name 'dtreeviz' is not defined"
     ]
    }
   ],
   "source": [
    "viz = dtreeviz(DecisionTreeClassifier(criterion='entropy', max_depth= 6, splitter='best'), Xtrain, ytrain, \n",
    "               target_name='Class', feature_names=df.drop('Class',axis=1).columns)"
   ]
  },
  {
   "cell_type": "markdown",
   "metadata": {},
   "source": [
    "## Random Forests"
   ]
  },
  {
   "cell_type": "markdown",
   "metadata": {},
   "source": [
    "As discussed in the lecture videos, Decision Tree algorithms also have certain undesireable properties. Mainly the have low bias, which is good, but tend to have high variance - which is *not* so good (more about this problem here: https://en.wikipedia.org/wiki/Bias%E2%80%93variance_tradeoff)."
   ]
  },
  {
   "cell_type": "markdown",
   "metadata": {},
   "source": [
    "Noticing these problems, the late Professor Leo Breiman, in 2001, developed the Random Forests algorithm, which mitigates these problems, while at the same time providing even higher predictive accuracy than the majority of Decision Tree algorithm implementations. While the curriculum contains two excellent lectures on Random Forests, if you're interested, you can dive into the original paper here: https://link.springer.com/content/pdf/10.1023%2FA%3A1010933404324.pdf."
   ]
  },
  {
   "cell_type": "markdown",
   "metadata": {},
   "source": [
    "In the next part of this assignment, your are going to use the same \"German Credit\" dataset to train, tune, and measure the performance of a Random Forests model. You will also see certain functionalities that this model, even though it's a bit of a \"black box\", provides for some degree of interpretability."
   ]
  },
  {
   "cell_type": "markdown",
   "metadata": {},
   "source": [
    "First, let's build a Random Forests model, using the same best practices that you've used for your Decision Trees model. You can reuse the things you've already imported there, so no need to do any re-imports, new train/test splits, or loading up the data again."
   ]
  },
  {
   "cell_type": "code",
   "execution_count": 23,
   "metadata": {},
   "outputs": [],
   "source": [
    "from sklearn.ensemble import RandomForestClassifier"
   ]
  },
  {
   "cell_type": "code",
   "execution_count": 34,
   "metadata": {},
   "outputs": [
    {
     "name": "stdout",
     "output_type": "stream",
     "text": [
      "{'criterion': 'gini', 'max_depth': 20, 'max_features': 'sqrt', 'n_estimators': 200}\n"
     ]
    }
   ],
   "source": [
    "rfc = RandomForestClassifier(random_state=11)\n",
    "param_grid = { \n",
    "    'n_estimators': [200,300],\n",
    "    'max_features': ['sqrt', 'log2'],\n",
    "    'max_depth' : [4,6,8,10,15,20,30],\n",
    "    'criterion' :['gini', 'entropy']\n",
    "}\n",
    "\n",
    "model_rfc = GridSearchCV(estimator=rfc, param_grid=param_grid, cv= 5)\n",
    "model_rfc.fit(Xtrain, ytrain)\n",
    "print(model_rfc.best_params_)"
   ]
  },
  {
   "cell_type": "code",
   "execution_count": 35,
   "metadata": {},
   "outputs": [
    {
     "name": "stdout",
     "output_type": "stream",
     "text": [
      "              precision    recall  f1-score   support\n",
      "\n",
      "         Bad       0.38      0.63      0.47        49\n",
      "        Good       0.92      0.80      0.85       251\n",
      "\n",
      "    accuracy                           0.77       300\n",
      "   macro avg       0.65      0.71      0.66       300\n",
      "weighted avg       0.83      0.77      0.79       300\n",
      "\n"
     ]
    }
   ],
   "source": [
    "ytest_pred = model_rfc.predict(Xtest)\n",
    "\n",
    "print(classification_report(ytest_pred,ytest))"
   ]
  },
  {
   "cell_type": "markdown",
   "metadata": {},
   "source": [
    "As mentioned, there are certain ways to \"peek\" into a model created by the Random Forests algorithm. The first, and most popular one, is the Feature Importance calculation functionality. This allows the ML practitioner to see an ordering of the importance of the features that have contributed the most to the predictive accuracy of the model. \n",
    "\n",
    "You can see how to use this in the scikit-learn documentation (http://scikit-learn.org/stable/modules/generated/sklearn.ensemble.RandomForestClassifier.html#sklearn.ensemble.RandomForestClassifier.feature_importances_). Now, if you tried this, you would just get an ordered table of not directly interpretable numeric values. Thus, it's much more useful to show the feature importance in a visual way. You can see an example of how that's done here: http://scikit-learn.org/stable/auto_examples/ensemble/plot_forest_importances.html#sphx-glr-auto-examples-ensemble-plot-forest-importances-py\n",
    "\n",
    "Now you try! Let's visualize the importance of features from your Random Forests model!"
   ]
  },
  {
   "cell_type": "code",
   "execution_count": 41,
   "metadata": {
    "scrolled": true
   },
   "outputs": [
    {
     "data": {
      "text/plain": [
       "61"
      ]
     },
     "execution_count": 41,
     "metadata": {},
     "output_type": "execute_result"
    }
   ],
   "source": [
    "#your code\n",
    "best_rfc_model = RandomForestClassifier(criterion='gini', max_depth=20, max_features='sqrt', n_estimators=200,\n",
    "                                        random_state=11).fit(Xtrain,ytrain)\n",
    "#len=61\n",
    "best_rfc_model.feature_importances_"
   ]
  },
  {
   "cell_type": "code",
   "execution_count": null,
   "metadata": {},
   "outputs": [],
   "source": []
  },
  {
   "cell_type": "markdown",
   "metadata": {},
   "source": [
    "A final method for gaining some insight into the inner working of your Random Forests models is a so-called Partial Dependence Plot. The Partial Dependence Plot (PDP or PD plot) shows the marginal effect of a feature on the predicted outcome of a previously fit model. The prediction function is fixed at a few values of the chosen features and averaged over the other features. A partial dependence plot can show if the relationship between the target and a feature is linear, monotonic or more complex. \n",
    "\n",
    "In scikit-learn, PDPs are implemented and available for certain algorithms, but at this point (version 0.20.0) they are not yet implemented for Random Forests. Thankfully, there is an add-on package called **PDPbox** (https://pdpbox.readthedocs.io/en/latest/) which adds this functionality to Random Forests. The package is easy to install through pip."
   ]
  },
  {
   "cell_type": "code",
   "execution_count": null,
   "metadata": {},
   "outputs": [],
   "source": [
    "! pip install pdpbox"
   ]
  },
  {
   "cell_type": "markdown",
   "metadata": {},
   "source": [
    "While we encourage you to read the documentation for the package (and reading package documentation in general is a good habit to develop), the authors of the package have also written an excellent blog post on how to use it, showing examples on different algorithms from scikit-learn (the Random Forests example is towards the end of the blog post): https://briangriner.github.io/Partial_Dependence_Plots_presentation-BrianGriner-PrincetonPublicLibrary-4.14.18-updated-4.22.18.html"
   ]
  },
  {
   "cell_type": "markdown",
   "metadata": {},
   "source": [
    "So, armed with this new knowledge, feel free to pick a few features, and make a couple of Partial Dependence Plots of your own!"
   ]
  },
  {
   "cell_type": "code",
   "execution_count": null,
   "metadata": {},
   "outputs": [],
   "source": [
    "# Your code here!"
   ]
  },
  {
   "cell_type": "markdown",
   "metadata": {},
   "source": [
    "## (Optional) Advanced Boosting-Based Algorithms"
   ]
  },
  {
   "cell_type": "markdown",
   "metadata": {},
   "source": [
    "As explained in the video lectures, the next generation of algorithms after Random Forests (that use Bagging, a.k.a. Bootstrap Aggregation) were developed using Boosting, and the first one of these were Gradient Boosted Machines, which are implemented in scikit-learn (http://scikit-learn.org/stable/modules/ensemble.html#gradient-tree-boosting)."
   ]
  },
  {
   "cell_type": "markdown",
   "metadata": {},
   "source": [
    "Still, in recent years, a number of variations on GBMs have been developed by different research amd industry groups, all of them bringing improvements, both in speed, accuracy and functionality to the original Gradient Boosting algorithms.\n",
    "\n",
    "In no order of preference, these are:\n",
    "1. **XGBoost**: https://xgboost.readthedocs.io/en/latest/\n",
    "2. **CatBoost**: https://tech.yandex.com/catboost/\n",
    "3. **LightGBM**: https://lightgbm.readthedocs.io/en/latest/"
   ]
  },
  {
   "cell_type": "markdown",
   "metadata": {},
   "source": [
    "If you're using the Anaconda distribution, these are all very easy to install:"
   ]
  },
  {
   "cell_type": "code",
   "execution_count": null,
   "metadata": {},
   "outputs": [],
   "source": [
    "! conda install -c anaconda py-xgboost"
   ]
  },
  {
   "cell_type": "code",
   "execution_count": null,
   "metadata": {},
   "outputs": [],
   "source": [
    "! conda install -c conda-forge catboost"
   ]
  },
  {
   "cell_type": "code",
   "execution_count": null,
   "metadata": {},
   "outputs": [],
   "source": [
    "! conda install -c conda-forge lightgbm"
   ]
  },
  {
   "cell_type": "markdown",
   "metadata": {},
   "source": [
    "Your task in this optional section of the mini project is to read the documentation of these three libraries, and apply all of them to the \"German Credit\" dataset, just like you did in the case of Decision Trees and Random Forests."
   ]
  },
  {
   "cell_type": "markdown",
   "metadata": {},
   "source": [
    "The final deliverable of this section should be a table (can be a pandas DataFrame) which shows the accuracy of all the five algorthms taught in this mini project in one place."
   ]
  },
  {
   "cell_type": "markdown",
   "metadata": {},
   "source": [
    "Happy modeling! :)"
   ]
  },
  {
   "cell_type": "code",
   "execution_count": null,
   "metadata": {},
   "outputs": [],
   "source": []
  }
 ],
 "metadata": {
  "kernelspec": {
   "display_name": "Python 3 (ipykernel)",
   "language": "python",
   "name": "python3"
  },
  "language_info": {
   "codemirror_mode": {
    "name": "ipython",
    "version": 3
   },
   "file_extension": ".py",
   "mimetype": "text/x-python",
   "name": "python",
   "nbconvert_exporter": "python",
   "pygments_lexer": "ipython3",
   "version": "3.9.15"
  }
 },
 "nbformat": 4,
 "nbformat_minor": 2
}
